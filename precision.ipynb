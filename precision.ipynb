{
 "cells": [
  {
   "cell_type": "code",
   "execution_count": 3,
   "metadata": {},
   "outputs": [
    {
     "name": "stderr",
     "output_type": "stream",
     "text": [
      "Using TensorFlow backend.\n"
     ]
    }
   ],
   "source": [
    "import os\n",
    "os.environ['KERAS_BACKEND'] = 'tensorflow'\n",
    "import keras                              \n",
    "from keras.models import Sequential  \n",
    "from keras.layers import Dense, Dropout, Flatten \n",
    "from keras.layers import Conv2D, MaxPooling2D    \n",
    "from keras import backend as K                   \n",
    "from keras.callbacks import Callback             \n",
    "from keras.layers import Lambda, Input, Dense, Concatenate ,Conv2DTranspose \n",
    "from keras.layers import LeakyReLU,BatchNormalization,AveragePooling2D,Reshape \n",
    "from keras.layers import UpSampling2D,ZeroPadding2D\n",
    "from keras.losses import mse, binary_crossentropy                           \n",
    "from keras.models import Model                                                     \n",
    "from keras.preprocessing.image import apply_transform, transform_matrix_offset_center\n",
    "from sklearn.model_selection import train_test_split                                                                                                              \n",
    "import numpy as np  \n",
    "import cv2\n",
    "import argparse     \n",
    "import glob\n",
    "import tensorflow as tf \n",
    "\n"
   ]
  },
  {
   "cell_type": "code",
   "execution_count": 6,
   "metadata": {},
   "outputs": [],
   "source": [
    "    \n",
    "# In[27]:\n",
    "image_root_path = '/nas/home/zekunl/dornsife/sub_maps_masks'\n",
    "list_path = '/nas/home/zekunl/dornsife/train_val_split/USGS_val_test.list'\n",
    "f = open(list_path,'r') \n",
    "file_list = f.read().splitlines() \n",
    "f.close()\n",
    "\n",
    "\n",
    "\n",
    "\n"
   ]
  },
  {
   "cell_type": "code",
   "execution_count": 8,
   "metadata": {},
   "outputs": [
    {
     "name": "stdout",
     "output_type": "stream",
     "text": [
      "num_samples =  327\n"
     ]
    }
   ],
   "source": [
    "# get the full path of map & maks files\n",
    "X,Y = [],[]\n",
    "for file_name in file_list:\n",
    "    x = glob.glob( image_root_path + '/' + file_name.split('.jpg')[0] + '*.jpg'  )\n",
    "    X.extend(x)\n",
    "\n",
    "    # mask images (should search for corresponding images, NOT to use glob AGAIN!)\n",
    "    # mask images\n",
    "    y = []\n",
    "    for patch_path in x:\n",
    "        # patch_path eg: '/nas/home/zekunl/dornsife/sub_maps_masks/101201496_h9w8.jpg'\n",
    "        base_name = os.path.basename(patch_path) # eg: 101201496_h9w8.jpg \n",
    "        this_mask_name = image_root_path + '/' + 'masked_' + base_name \n",
    "        y.append(this_mask_name)\n",
    "    Y.extend(y) \n",
    "print 'num_samples = ',len(X)"
   ]
  },
  {
   "cell_type": "code",
   "execution_count": null,
   "metadata": {},
   "outputs": [],
   "source": [
    "from keras.models import load_model\n",
    "#mymodel = load_model('/nas/home/zekunl/dornsife/attempt_03_softmax08-0.19.hdf5')\n",
    "mymodel = load_model('/nas/home/zekunl/dornsife/attempt_04_softmax08-0.20.hdf5')"
   ]
  },
  {
   "cell_type": "code",
   "execution_count": 107,
   "metadata": {},
   "outputs": [
    {
     "name": "stdout",
     "output_type": "stream",
     "text": [
      "(12928,)\n",
      "(12928,)\n",
      "precision 0.510983910891\n",
      "recall 0.542008532983\n",
      "0.510983910891\n",
      "0.542008532983\n"
     ]
    }
   ],
   "source": [
    "avg_precision = 0\n",
    "avg_recall = 0\n",
    "\n",
    "for map_path,mask_path in zip(X,Y):        \n",
    "    # rad map and masks\n",
    "    map_img =  cv2.imread(map_path) \n",
    "    map_img = map_img / 255.\n",
    "\n",
    "    mask_img = cv2.imread(mask_path,cv2.IMREAD_GRAYSCALE) # read grayscale, \n",
    "\n",
    "    thresh = 100 # (values are only 0 and 150)\n",
    "    bw_img = cv2.threshold(mask_img, thresh, 255, cv2.THRESH_BINARY)[1]\n",
    "    proba_map = bw_img / 255.   # 0s and 1s\n",
    "    \n",
    "    map_img = np.expand_dims(map_img, axis = 0)\n",
    "\n",
    "    predicted_y = mymodel.predict(map_img)\n",
    "    predicted_y = predicted_y[0][:,:,0]\n",
    "    #print predicted_y.shape, proba_map.shape\n",
    "    \n",
    "    thresh = 0.45\n",
    "    img4 = np.zeros((predicted_y.shape[0],predicted_y.shape[1]))\n",
    "    img4[predicted_y > thresh] = 1\n",
    "    img4[predicted_y <= thresh] = 0\n",
    "    img4 = img4.astype('uint8')\n",
    "    \n",
    "    index_one = np.where(img4 == 1)[0]    \n",
    "    index_two = np.where(img4 == 1)[1]\n",
    "    print index_one.shape\n",
    "    print index_two.shape\n",
    "    tp = 0\n",
    "    for index1, index2 in zip(index_one, index_two):\n",
    "        if img4[index1][index2] == proba_map[index1][index2]:\n",
    "            tp += 1\n",
    "        else:\n",
    "            fp +=1\n",
    "    if index_one.shape[0] != 0:\n",
    "        precision = tp * 1.0 / index_one.shape[0]\n",
    "        avg_precision  += precision\n",
    "        print 'precision',precision\n",
    "\n",
    "\n",
    "    \n",
    "    index1_one = np.where(proba_map == 1)[0]    \n",
    "    index1_two = np.where(proba_map == 1)[1]\n",
    "    tp = 0\n",
    "    for index1, index2 in zip(index1_one, index1_two):\n",
    "        if img4[index1][index2] == proba_map[index1][index2]:\n",
    "            tp += 1\n",
    "        else:\n",
    "            fp +=1\n",
    "    if index1_one.shape[0] != 0:\n",
    "        recall = tp * 1.0 / index1_one.shape[0]\n",
    "        avg_recall += recall\n",
    "        print 'recall',recall\n",
    "    \n",
    "    break\n",
    "    \n",
    "\n",
    "print avg_precision\n",
    "print avg_recall"
   ]
  },
  {
   "cell_type": "code",
   "execution_count": 118,
   "metadata": {},
   "outputs": [
    {
     "name": "stdout",
     "output_type": "stream",
     "text": [
      "0.442176870748 0.0213324581556\n",
      "0.694591904446 0.0828239669258\n",
      "0.194049401198 0.0905874645119\n",
      "0.419818456884 0.0286170980716\n",
      "0.637107776262 0.0586793993843\n",
      "0.606073752711 0.108204403307\n",
      "0.165562913907 0.00604924082028\n",
      "0.134179821551 0.0635333306252\n",
      "0.0 0.0\n",
      "1.0 0.0365155677656\n",
      "0.679487179487 0.0957378177283\n",
      "0.312558139535 0.039048200122\n",
      "0.222345510413 0.022507344047\n",
      "0.0 0.0\n",
      "0.0 0.0\n",
      "0.0 0.0\n",
      "0.624556737589 0.362645847632\n",
      "0.885964912281 0.205884959674\n",
      "0.808181818182 0.64336372847\n",
      "0.97597768714 0.214708909532\n",
      "0.97597768714 0.0\n",
      "0.187692307692 0.0987797119889\n",
      "0.0 0.0\n",
      "0.995690421184 0.32088256666\n",
      "0.886279257466 0.585138411531\n",
      "0.979970544919 0.26052127747\n",
      "1.0 0.0155078453604\n",
      "0.966911764706 0.251193887297\n",
      "0.966911764706 0.0\n",
      "0.966911764706 0.0\n",
      "1.0 0.201276176609\n",
      "1.0 0.0130493659978\n",
      "0.999656121045 0.111653095714\n",
      "0.660052910053 0.164561553936\n",
      "0.996283236443 0.192858658254\n",
      "1.0 0.126240869077\n",
      "0.651880796977 0.243207305351\n",
      "0.980405405405 0.074894832377\n",
      "0.955431177446 0.163724201627\n",
      "0.937718637318 0.405814569614\n",
      "0.997282608696 0.323972413793\n",
      "0.857990012484 0.291207627119\n",
      "0.865966023611 0.0892638514792\n",
      "0.930173444976 0.419787575745\n",
      "0.970512933698 0.403735091311\n",
      "1.0 0.120114444707\n",
      "1.0 0.0\n",
      "0.833653846154 0.170170541283\n",
      "0.966502115656 0.436152438539\n",
      "0.98671419313 0.225155279503\n",
      "0.999933279957 0.272218690401\n",
      "0.950836411036 0.408308533366\n",
      "0.466598360656 0.133972699459\n",
      "1.0 0.163657649886\n",
      "0.948955525606 0.148755529148\n",
      "0.962216248507 0.49232062352\n",
      "0.962216248507 0.0\n",
      "0.0623138229666 0.354070337677\n",
      "0.888081395349 0.261926633597\n",
      "0.342557175871 0.363469180688\n",
      "0.172919804646 0.23198922262\n",
      "0.227871652535 0.183348671698\n",
      "0.0 0.0\n",
      "0.597397769517 0.331959472752\n",
      "0.519969278034 0.331789048082\n",
      "0.307278333721 0.161190886756\n",
      "0.231626653601 0.367684230994\n",
      "0.116827059157 0.188270750183\n",
      "0.318734211784 0.337776973863\n",
      "0.140754330574 0.180534654007\n",
      "0.923775989269 0.325138095463\n",
      "0.131838691483 0.0475851188356\n",
      "0.248390317225 0.328928995841\n",
      "0.212579229644 0.0931773254261\n",
      "0.012715340443 0.0187198067633\n",
      "0.562792056075 0.396828665568\n",
      "0.0 0.0\n",
      "0.236577316268 0.374816672689\n",
      "0.356554914684 0.169719588749\n",
      "0.695904769643 0.224226517348\n",
      "0.818528326111 0.392916297523\n",
      "0.27286390066 0.222394023976\n",
      "0.160933908938 0.206582081668\n",
      "0.664385098743 0.833122273815\n",
      "0.651421601108 0.611916651342\n",
      "0.428636148755 0.218271362228\n",
      "0.62565742994 0.403199696471\n",
      "0.0 0.0\n",
      "0.119419107057 0.660252156603\n",
      "0.233125034411 0.209673425933\n",
      "0.380610296735 0.37871384759\n",
      "0.166284980171 0.204337977898\n",
      "0.665330867242 0.427737815619\n",
      "0.152892561983 0.401562839158\n",
      "0.294097408059 0.348734686477\n",
      "0.183573810658 0.229241033486\n",
      "0.98282967033 0.140573993471\n",
      "0.167809321488 0.350675993812\n",
      "0.211092806758 0.297650598653\n",
      "0.565899390244 0.329979289073\n",
      "0.740579190567 0.412242092309\n",
      "1.0 0.147765864365\n",
      "0.119090067145 0.284186971656\n",
      "0.446791888298 0.179439763942\n",
      "0.162860903654 0.13176522338\n",
      "0.360859584237 0.0707498812292\n",
      "0.804572271386 0.554620424763\n",
      "0.883677667863 0.517773332307\n",
      "1.0 0.114664888916\n",
      "0.281784492588 0.105354913365\n",
      "0.072664790376 0.243585687166\n",
      "0.896490536278 0.159342584805\n",
      "0.130148892752 0.351070336391\n",
      "0.19455994456 0.0931647975383\n",
      "0.211917422584 0.204250829062\n",
      "0.607318524395 0.358866478371\n",
      "0.139396123658 0.37865309773\n",
      "0.0 0.0\n",
      "0.978056426332 0.284983558641\n",
      "0.920310981535 0.163928277772\n",
      "0.266814386641 0.306728490317\n",
      "0.266814386641 0.0\n",
      "0.681548431105 0.186540831186\n",
      "0.999859865471 0.24677765224\n",
      "0.726191530829 0.208970919079\n",
      "0.726191530829 0.0\n",
      "0.0 0.0\n",
      "0.0 0.0\n",
      "1.0 0.0573364330787\n",
      "0.259253749107 0.256967587814\n",
      "0.8940230155 0.186479701182\n",
      "0.0 0.0\n",
      "0.386836628512 0.0594389870989\n",
      "1.0 0.0592186223028\n",
      "0.943347710683 0.433306663619\n",
      "0.827437446074 0.218581725975\n",
      "0.538349426125 0.173929677671\n",
      "0.82122982749 0.824096049141\n",
      "0.913838577164 0.445456407222\n",
      "0.900894245723 0.857581701765\n",
      "0.900894245723 0.0\n",
      "0.798254675946 0.659872353814\n",
      "0.683215670495 0.318133042641\n",
      "0.944534014943 0.223566149779\n",
      "0.0 0.223566149779\n",
      "0.0 0.223566149779\n",
      "0.979227982794 0.429753092553\n",
      "0.525417491498 0.250311340032\n",
      "0.917978707452 0.377458536285\n",
      "0.982817634173 0.117695280958\n",
      "0.975194177254 0.24835109414\n",
      "0.775101257728 0.170654150777\n",
      "0.877177949157 0.175028140718\n",
      "0.466548805128 0.72391286722\n",
      "0.957142857143 0.476179900056\n",
      "0.938995339202 0.302074135777\n",
      "0.861400991391 0.109066734935\n",
      "0.861400991391 0.0\n",
      "0.609895337774 0.260066943909\n",
      "0.192427893667 0.119294109408\n",
      "0.919676381191 0.258431200151\n",
      "0.821859903382 0.188208721305\n",
      "0.599726775956 0.177989328749\n",
      "0.0 0.0\n",
      "0.354390243902 0.0633370748559\n",
      "0.898618648249 0.249627408994\n",
      "0.917949814656 0.246841873215\n",
      "0.35391398687 0.242367957327\n",
      "0.97633396533 0.136914822904\n",
      "0.81510534846 0.664403197041\n",
      "0.970042663699 0.412258573118\n",
      "0.989164086687 0.433661350526\n",
      "0.799114173228 0.46238396264\n",
      "0.518215081133 0.48683890975\n",
      "0.811975671141 0.557571829769\n",
      "0.811975671141 0.0\n",
      "0.963820616288 0.218271502375\n",
      "0.971744838286 0.149688159243\n",
      "0.953713063764 0.491081081081\n",
      "0.510176028481 0.275012260912\n",
      "0.921064814815 0.466866566717\n",
      "0.61 0.0179016874541\n",
      "0.310350612313 0.338440429911\n",
      "0.463131917439 0.100069481474\n",
      "0.273648648649 0.175977653631\n",
      "0.832249858677 0.443448795181\n",
      "0.149814471243 0.382701421801\n",
      "0.826422888617 0.533244483933\n",
      "0.0743458058205 0.265502183406\n",
      "0.973679079743 0.4148443503\n",
      "0.72402417962 0.854066498248\n",
      "0.565949227373 0.430912528889\n",
      "0.47105704698 0.584734601366\n",
      "0.619728915663 0.0433995429777\n",
      "0.910628019324 0.337234439061\n",
      "0.834772052873 0.779765654529\n",
      "0.336127017179 0.687243893353\n",
      "0.262032085561 0.0272942487119\n",
      "0.12730316015 0.760742578219\n",
      "0.382416301738 0.485582959641\n",
      "0.411759748286 0.411516972232\n",
      "0.13006993007 0.456441717791\n",
      "0.821182396607 0.607472053344\n",
      "0.413305847076 0.272237995309\n",
      "0.79233484921 0.438918076802\n",
      "0.348212898213 0.204196473322\n",
      "0.332358589385 0.0659844375509\n",
      "0.199921840107 0.297821024617\n",
      "0.483386654479 0.333034196108\n",
      "0.653309692671 0.451976939118\n",
      "0.809969040248 0.506348223272\n",
      "0.395945285784 0.245941435291\n",
      "0.335714285714 0.585369698881\n",
      "0.297926267281 0.295475319927\n",
      "0.156937799043 0.373345980555\n",
      "0.0 0.0\n",
      "0.657465007776 0.532598425197\n",
      "0.406845981849 0.598640443186\n",
      "0.951512455516 0.346761773527\n",
      "0.124133242692 0.580696454126\n",
      "0.410097261326 0.739130434783\n",
      "0.0820378595601 0.98758752387\n",
      "0.230877246732 0.21875755963\n",
      "0.11717717056 0.837484004331\n",
      "0.403188256629 0.775348146752\n",
      "0.492299367299 0.732518529224\n",
      "0.114159688995 0.488119339371\n",
      "0.377657793404 0.888352860096\n",
      "0.233302601926 0.849654915128\n",
      "0.242150816455 0.706956521739\n",
      "0.656699470098 0.370647297586\n",
      "0.167774389233 0.660823867346\n",
      "0.447424135498 0.804632347109\n",
      "0.313034266092 0.633602602732\n",
      "0.0365189275379 0.233228042054\n",
      "0.085385851014 0.293951612903\n",
      "0.190223836347 0.661128284389\n",
      "0.346437575871 0.391546397193\n",
      "0.245242159838 0.597719305004\n",
      "0.0937644341801 0.17118161695\n",
      "0.205186348043 0.589837873976\n",
      "0.420530720717 0.789911896735\n",
      "0.556749717585 0.588249921257\n",
      "0.179211238562 0.430928953281\n",
      "0.434099935347 0.306198898987\n",
      "0.185432761253 0.391828156692\n",
      "0.522109845509 0.663264033264\n",
      "0.286433383234 0.776138322685\n",
      "0.437752264777 0.538805475822\n",
      "0.313501732727 0.547908583325\n",
      "0.552234122668 0.65582689489\n",
      "0.48155699722 0.742869397384\n",
      "0.281732319742 0.666462313954\n",
      "0.165888511602 0.708887545345\n",
      "0.739698965193 0.470711484929\n",
      "0.200171283336 0.552429602521\n",
      "0.190931658879 0.580337328007\n",
      "0.91889483066 0.335929620952\n",
      "0.81338301506 0.654977340209\n",
      "0.633781894443 0.342267943938\n",
      "0.416047854785 0.597518977967\n",
      "0.878783026421 0.256979970266\n",
      "0.99537037037 0.0673172259041\n",
      "0.99537037037 0.0\n",
      "0.916564077311 0.505285125299\n",
      "0.359585145534 0.580439596047\n",
      "0.976952513481 0.149172664737\n",
      "0.802542372881 0.0955612457271\n",
      "0.814838591343 0.131357185098\n",
      "0.918261626068 0.124922666408\n",
      "0.749364272092 0.408755960121\n",
      "0.822394073304 0.568151207686\n",
      "0.922964407606 0.227003367676\n",
      "0.962301587302 0.291536427026\n",
      "0.784555984556 0.390900783918\n",
      "0.803549509002 0.343177300627\n",
      "0.431456348689 0.531925590749\n",
      "0.431456348689 0.0\n",
      "0.984414278532 0.35736448257\n",
      "0.699260286639 0.412687585266\n",
      "0.782876106195 0.350425826896\n",
      "0.920922147498 0.215096775911\n",
      "0.920922147498 0.0\n",
      "0.787817332944 0.475983533581\n",
      "1.0 0.1568611186\n",
      "0.0145348837209 0.00282453960005\n",
      "0.932013911891 0.151557997361\n",
      "0.0 0.0\n",
      "0.63274317035 0.423758193736\n",
      "0.691379537086 0.538721660049\n",
      "0.297851209823 0.229607461024\n",
      "0.956051502146 0.468514701552\n",
      "0.750827235126 0.654704601257\n",
      "0.0 0.0\n",
      "0.81392801252 0.250391160966\n",
      "0.832151944747 0.31288867628\n"
     ]
    },
    {
     "name": "stdout",
     "output_type": "stream",
     "text": [
      "0.876447876448 0.41716438482\n",
      "0.51947452363 0.499919218031\n",
      "0.438920809393 0.207529898125\n",
      "0.184187510932 0.372446723848\n",
      "0.302883064516 0.381129969303\n",
      "0.539711191336 0.490341251658\n",
      "0.112536265079 0.241629441416\n",
      "0.803141201586 0.134180826943\n",
      "0.618735543562 0.559525884609\n",
      "0.490762061404 0.462896886958\n",
      "0.612201326429 0.600994448037\n",
      "0.461322869955 0.0599373679994\n",
      "0.510005220115 0.157820345417\n",
      "0.448167881847 0.305129510596\n",
      "0.0420371867421 0.0180406782601\n",
      "0.325668990331 0.174361907055\n",
      "0.756392597302 0.476769813001\n",
      "0.773471320346 0.420651854032\n",
      "0.941327300151 0.18991540381\n",
      "0.914027006562 0.268932291183\n",
      "0.694079363073 0.29391146133\n",
      "0.849918765232 0.257982986068\n",
      "0.938150402513 0.344571449176\n",
      "0.904355400697 0.409352574718\n",
      "0.853789126853 0.552100672482\n",
      "0.0788181180323 0.172636072572\n",
      "0.978478964401 0.355988579166\n",
      "0.729896329504 0.263523937179\n",
      "0.680648769575 0.0816559312936\n",
      "0.835722964763 0.175777556288\n",
      "0.103789126853 0.30115522507\n",
      "0.559934339244\n",
      "0.310288315078\n"
     ]
    }
   ],
   "source": [
    "avg_precision = 0\n",
    "avg_recall = 0\n",
    "count1 = 0\n",
    "count2 = 0\n",
    "\n",
    "for map_path,mask_path in zip(X,Y):        \n",
    "    # rad map and masks\n",
    "    map_img =  cv2.imread(map_path) \n",
    "    map_img = map_img / 255.\n",
    "\n",
    "    mask_img = cv2.imread(mask_path,cv2.IMREAD_GRAYSCALE) # read grayscale, \n",
    "\n",
    "    thresh = 100 # (values are only 0 and 150)\n",
    "    bw_img = cv2.threshold(mask_img, thresh, 255, cv2.THRESH_BINARY)[1]\n",
    "    proba_map = bw_img / 255.   # 0s and 1s\n",
    "    \n",
    "    map_img = np.expand_dims(map_img, axis = 0)\n",
    "\n",
    "    predicted_y = mymodel.predict(map_img)\n",
    "    predicted_y = predicted_y[0][:,:,0]\n",
    "    #print predicted_y.shape, proba_map.shape\n",
    "    \n",
    "    thresh = 0.55\n",
    "    img4 = np.zeros((predicted_y.shape[0],predicted_y.shape[1]))\n",
    "    img4[predicted_y > thresh] = 1\n",
    "    img4[predicted_y <= thresh] = 0\n",
    "    img4 = img4.astype('uint8')\n",
    "    \n",
    "\n",
    "    if img4[np.where(img4 == 1)].shape[0] != 0:\n",
    "        precision = 1.0 * np.sum(img4[np.where(img4 == 1)] == proba_map[np.where(img4 == 1)] )/ img4[np.where(img4 == 1)].shape[0]\n",
    "        avg_precision += precision\n",
    "        count1 += 1\n",
    "    if  proba_map[np.where(proba_map == 1)].shape[0]  != 0:\n",
    "        recall = 1.0 * np.sum(img4[np.where(proba_map == 1)] == proba_map[np.where(proba_map == 1)] )/ proba_map[np.where(proba_map == 1)].shape[0]\n",
    "        avg_recall += recall \n",
    "        count2 += 1\n",
    "    \n",
    "    print precision, recall\n",
    "\n",
    "print avg_precision * 1.0 / count1\n",
    "print avg_recall * 1.0 /count2"
   ]
  },
  {
   "cell_type": "code",
   "execution_count": 106,
   "metadata": {},
   "outputs": [
    {
     "name": "stdout",
     "output_type": "stream",
     "text": [
      "0.472975845523\n",
      "0.476631711131\n"
     ]
    }
   ],
   "source": [
    "print 154.663101486/327\n",
    "print 155.85856954/327\n",
    "\n",
    "#thresh = 0.45\n",
    "#0.484837308734\n",
    "#0.481044967715\n",
    "\n",
    "#thresh = 0.4\n",
    "#0.449477188799\n",
    "#0.560963533834\n",
    "\n",
    "#thresh = 0.5\n",
    "#0.523492896284\n",
    "#0.396587716708"
   ]
  },
  {
   "cell_type": "code",
   "execution_count": null,
   "metadata": {},
   "outputs": [],
   "source": [
    "img4[np.where(img4 == 1)].shape[0]"
   ]
  },
  {
   "cell_type": "code",
   "execution_count": 111,
   "metadata": {},
   "outputs": [
    {
     "name": "stdout",
     "output_type": "stream",
     "text": [
      "(12928,)\n"
     ]
    }
   ],
   "source": [
    "np.sum(img4[np.where(img4 == 1)] == proba_map[np.where(img4 == 1)]  )\n",
    "print img4[np.where(img4 == 1)].shape"
   ]
  },
  {
   "cell_type": "code",
   "execution_count": 81,
   "metadata": {},
   "outputs": [
    {
     "name": "stdout",
     "output_type": "stream",
     "text": [
      "0\n",
      "24244\n"
     ]
    },
    {
     "name": "stderr",
     "output_type": "stream",
     "text": [
      "/nfs/isicvlnas01/share/anaconda/lib/python2.7/site-packages/ipykernel/__main__.py:1: DeprecationWarning: elementwise == comparison failed; this will raise an error in the future.\n",
      "  if __name__ == '__main__':\n"
     ]
    }
   ],
   "source": [
    "print np.sum(img4[np.where(img4 == 1)[0]][np.where(img4 == 1)[1]] == proba_map)\n",
    "print np.sum(img4 == 1)"
   ]
  },
  {
   "cell_type": "code",
   "execution_count": 85,
   "metadata": {},
   "outputs": [
    {
     "data": {
      "text/plain": [
       "(24244, 1000)"
      ]
     },
     "execution_count": 85,
     "metadata": {},
     "output_type": "execute_result"
    }
   ],
   "source": [
    "img4[np.where(img4 == 1)[0]].shape #[np.where(img4 == 1)[1]].shape"
   ]
  },
  {
   "cell_type": "code",
   "execution_count": 67,
   "metadata": {},
   "outputs": [
    {
     "data": {
      "text/plain": [
       "array([[0, 0, 0, ..., 0, 0, 0],\n",
       "       [0, 0, 0, ..., 0, 0, 0],\n",
       "       [0, 0, 0, ..., 0, 0, 0],\n",
       "       ...,\n",
       "       [0, 0, 0, ..., 0, 0, 0],\n",
       "       [0, 0, 0, ..., 0, 0, 0],\n",
       "       [0, 0, 0, ..., 0, 0, 0]], dtype=uint8)"
      ]
     },
     "execution_count": 67,
     "metadata": {},
     "output_type": "execute_result"
    }
   ],
   "source": [
    "img4"
   ]
  },
  {
   "cell_type": "code",
   "execution_count": 68,
   "metadata": {},
   "outputs": [
    {
     "data": {
      "text/plain": [
       "array([[7.2679360e-04, 7.2679360e-04, 1.3593079e-04, ..., 1.7458324e-01,\n",
       "        2.1190692e-01, 2.1190692e-01],\n",
       "       [7.2679360e-04, 7.2679360e-04, 1.3593079e-04, ..., 1.7458324e-01,\n",
       "        2.1190692e-01, 2.1190692e-01],\n",
       "       [2.5625600e-04, 2.5625600e-04, 4.5769881e-05, ..., 1.4910799e-01,\n",
       "        1.8639751e-01, 1.8639751e-01],\n",
       "       ...,\n",
       "       [1.2414709e-02, 1.2414709e-02, 3.9318972e-03, ..., 1.6915227e-01,\n",
       "        2.0346850e-01, 2.0346850e-01],\n",
       "       [2.6329547e-02, 2.6329547e-02, 9.1740387e-03, ..., 2.0507851e-01,\n",
       "        2.3766637e-01, 2.3766637e-01],\n",
       "       [2.6329547e-02, 2.6329547e-02, 9.1740387e-03, ..., 2.0507851e-01,\n",
       "        2.3766637e-01, 2.3766637e-01]], dtype=float32)"
      ]
     },
     "execution_count": 68,
     "metadata": {},
     "output_type": "execute_result"
    }
   ],
   "source": [
    "predicted_y"
   ]
  },
  {
   "cell_type": "code",
   "execution_count": 98,
   "metadata": {},
   "outputs": [
    {
     "data": {
      "image/png": "[encoded data removed]",
      "text/plain": [
       "<matplotlib.figure.Figure at 0x2ac17aff9490>"
      ]
     },
     "metadata": {},
     "output_type": "display_data"
    }
   ],
   "source": [
    "import matplotlib.pyplot as plt\n",
    "plt.switch_backend('agg')\n",
    "%matplotlib inline\n",
    "img = img4*255 \n",
    "img = img.astype('uint8')\n",
    "plt.imshow(img);plt.show()"
   ]
  },
  {
   "cell_type": "code",
   "execution_count": 100,
   "metadata": {},
   "outputs": [
    {
     "data": {
      "image/png": "[encoded data removed]",
      "text/plain": [
       "<matplotlib.figure.Figure at 0x2ac17aff0ad0>"
      ]
     },
     "metadata": {},
     "output_type": "display_data"
    }
   ],
   "source": [
    "img = proba_map*255 \n",
    "img = img.astype('uint8')\n",
    "plt.imshow(img);plt.show()"
   ]
  },
  {
   "cell_type": "code",
   "execution_count": 70,
   "metadata": {},
   "outputs": [
    {
     "ename": "IndexError",
     "evalue": "too many indices for array",
     "output_type": "error",
     "traceback": [
      "\u001b[1;31m---------------------------------------------------------------------------\u001b[0m",
      "\u001b[1;31mIndexError\u001b[0m                                Traceback (most recent call last)",
      "\u001b[1;32m<ipython-input-70-76ff004b2687>\u001b[0m in \u001b[0;36m<module>\u001b[1;34m()\u001b[0m\n\u001b[1;32m----> 1\u001b[1;33m \u001b[0mnp\u001b[0m\u001b[1;33m.\u001b[0m\u001b[0mmax\u001b[0m\u001b[1;33m(\u001b[0m\u001b[0mpredicted_y\u001b[0m\u001b[1;33m[\u001b[0m\u001b[1;33m:\u001b[0m\u001b[1;33m,\u001b[0m\u001b[1;33m:\u001b[0m\u001b[1;33m,\u001b[0m\u001b[1;33m:\u001b[0m\u001b[1;33m,\u001b[0m\u001b[1;36m0\u001b[0m\u001b[1;33m]\u001b[0m\u001b[1;33m,\u001b[0m \u001b[0maxis\u001b[0m \u001b[1;33m=\u001b[0m \u001b[1;33m(\u001b[0m\u001b[1;36m1\u001b[0m\u001b[1;33m,\u001b[0m\u001b[1;36m2\u001b[0m\u001b[1;33m)\u001b[0m\u001b[1;33m)\u001b[0m\u001b[1;33m\u001b[0m\u001b[0m\n\u001b[0m",
      "\u001b[1;31mIndexError\u001b[0m: too many indices for array"
     ]
    }
   ],
   "source": [
    "np.max(predicted_y[:,:,:,0], axis = (1,2))"
   ]
  },
  {
   "cell_type": "code",
   "execution_count": 15,
   "metadata": {},
   "outputs": [],
   "source": [
    "import pickle\n",
    "data = pickle.load(open('data.pkl','r'))"
   ]
  },
  {
   "cell_type": "code",
   "execution_count": 16,
   "metadata": {},
   "outputs": [
    {
     "data": {
      "text/plain": [
       "['y', 'x', 'x1', 'y1']"
      ]
     },
     "execution_count": 16,
     "metadata": {},
     "output_type": "execute_result"
    }
   ],
   "source": [
    "data.keys()"
   ]
  },
  {
   "cell_type": "code",
   "execution_count": 17,
   "metadata": {},
   "outputs": [],
   "source": [
    "x = data['x']\n",
    "y = data['y']\n",
    "x1 = data['x1']\n",
    "y1 = data['y1']"
   ]
  },
  {
   "cell_type": "code",
   "execution_count": 18,
   "metadata": {},
   "outputs": [
    {
     "data": {
      "text/plain": [
       "(12, 1000, 1000, 3)"
      ]
     },
     "execution_count": 18,
     "metadata": {},
     "output_type": "execute_result"
    }
   ],
   "source": [
    "data['x'].shape"
   ]
  },
  {
   "cell_type": "code",
   "execution_count": 19,
   "metadata": {},
   "outputs": [
    {
     "data": {
      "text/plain": [
       "(12, 1000, 1000, 3)"
      ]
     },
     "execution_count": 19,
     "metadata": {},
     "output_type": "execute_result"
    }
   ],
   "source": [
    "data['x1'].shape"
   ]
  },
  {
   "cell_type": "code",
   "execution_count": 20,
   "metadata": {},
   "outputs": [
    {
     "data": {
      "text/plain": [
       "(12, 1000, 1000, 2)"
      ]
     },
     "execution_count": 20,
     "metadata": {},
     "output_type": "execute_result"
    }
   ],
   "source": [
    "data['y1'].shape"
   ]
  },
  {
   "cell_type": "code",
   "execution_count": 150,
   "metadata": {},
   "outputs": [],
   "source": [
    "prediction = (predicted_y[:,:,:,0] >  0.5)"
   ]
  },
  {
   "cell_type": "code",
   "execution_count": 152,
   "metadata": {},
   "outputs": [
    {
     "data": {
      "text/plain": [
       "(12, 1000, 1000)"
      ]
     },
     "execution_count": 152,
     "metadata": {},
     "output_type": "execute_result"
    }
   ],
   "source": [
    "prediction.shape"
   ]
  },
  {
   "cell_type": "code",
   "execution_count": 81,
   "metadata": {},
   "outputs": [
    {
     "data": {
      "text/plain": [
       "(12, 1000, 1000, 3)"
      ]
     },
     "execution_count": 81,
     "metadata": {},
     "output_type": "execute_result"
    }
   ],
   "source": [
    "x.shape"
   ]
  },
  {
   "cell_type": "code",
   "execution_count": null,
   "metadata": {},
   "outputs": [],
   "source": []
  }
 ],
 "metadata": {
  "anaconda-cloud": {},
  "kernelspec": {
   "display_name": "Python 2",
   "language": "python",
   "name": "python2"
  },
  "language_info": {
   "codemirror_mode": {
    "name": "ipython",
    "version": 2
   },
   "file_extension": ".py",
   "mimetype": "text/x-python",
   "name": "python",
   "nbconvert_exporter": "python",
   "pygments_lexer": "ipython2",
   "version": "2.7.12"
  }
 },
 "nbformat": 4,
 "nbformat_minor": 2
}
